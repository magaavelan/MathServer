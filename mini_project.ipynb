{
  "nbformat": 4,
  "nbformat_minor": 0,
  "metadata": {
    "colab": {
      "provenance": [],
      "include_colab_link": true
    },
    "kernelspec": {
      "name": "python3",
      "display_name": "Python 3"
    },
    "language_info": {
      "name": "python"
    },
    "widgets": {
      "application/vnd.jupyter.widget-state+json": {
        "b96869f0f4ea458785a0b99159c393e8": {
          "model_module": "@jupyter-widgets/controls",
          "model_name": "HBoxModel",
          "model_module_version": "1.5.0",
          "state": {
            "_dom_classes": [],
            "_model_module": "@jupyter-widgets/controls",
            "_model_module_version": "1.5.0",
            "_model_name": "HBoxModel",
            "_view_count": null,
            "_view_module": "@jupyter-widgets/controls",
            "_view_module_version": "1.5.0",
            "_view_name": "HBoxView",
            "box_style": "",
            "children": [
              "IPY_MODEL_2bd8dd54ed9d4861add1bf8ee647ff9c",
              "IPY_MODEL_1895b3732a464c92be3fadabd95f27fb",
              "IPY_MODEL_6704f7a2cfed4a8fa63902dafc8b4123"
            ],
            "layout": "IPY_MODEL_0265bf3dc5a6419e932ba894687ff964"
          }
        },
        "2bd8dd54ed9d4861add1bf8ee647ff9c": {
          "model_module": "@jupyter-widgets/controls",
          "model_name": "HTMLModel",
          "model_module_version": "1.5.0",
          "state": {
            "_dom_classes": [],
            "_model_module": "@jupyter-widgets/controls",
            "_model_module_version": "1.5.0",
            "_model_name": "HTMLModel",
            "_view_count": null,
            "_view_module": "@jupyter-widgets/controls",
            "_view_module_version": "1.5.0",
            "_view_name": "HTMLView",
            "description": "",
            "description_tooltip": null,
            "layout": "IPY_MODEL_aa0fb24ba26c45149a86d0a49f538f3f",
            "placeholder": "​",
            "style": "IPY_MODEL_ec150e602b60447ea96dd9fe19a451b3",
            "value": "Downloading (…)lve/main/config.json: 100%"
          }
        },
        "1895b3732a464c92be3fadabd95f27fb": {
          "model_module": "@jupyter-widgets/controls",
          "model_name": "FloatProgressModel",
          "model_module_version": "1.5.0",
          "state": {
            "_dom_classes": [],
            "_model_module": "@jupyter-widgets/controls",
            "_model_module_version": "1.5.0",
            "_model_name": "FloatProgressModel",
            "_view_count": null,
            "_view_module": "@jupyter-widgets/controls",
            "_view_module_version": "1.5.0",
            "_view_name": "ProgressView",
            "bar_style": "success",
            "description": "",
            "description_tooltip": null,
            "layout": "IPY_MODEL_834b509d755b4b91a23a52c1479a1230",
            "max": 1802,
            "min": 0,
            "orientation": "horizontal",
            "style": "IPY_MODEL_65e843e66a9c4a35860b5bffca9b98da",
            "value": 1802
          }
        },
        "6704f7a2cfed4a8fa63902dafc8b4123": {
          "model_module": "@jupyter-widgets/controls",
          "model_name": "HTMLModel",
          "model_module_version": "1.5.0",
          "state": {
            "_dom_classes": [],
            "_model_module": "@jupyter-widgets/controls",
            "_model_module_version": "1.5.0",
            "_model_name": "HTMLModel",
            "_view_count": null,
            "_view_module": "@jupyter-widgets/controls",
            "_view_module_version": "1.5.0",
            "_view_name": "HTMLView",
            "description": "",
            "description_tooltip": null,
            "layout": "IPY_MODEL_f759d1d90ab34af5bfd528af5acc4bd9",
            "placeholder": "​",
            "style": "IPY_MODEL_0781007a98044908b16b56b1066e7c61",
            "value": " 1.80k/1.80k [00:00&lt;00:00, 74.2kB/s]"
          }
        },
        "0265bf3dc5a6419e932ba894687ff964": {
          "model_module": "@jupyter-widgets/base",
          "model_name": "LayoutModel",
          "model_module_version": "1.2.0",
          "state": {
            "_model_module": "@jupyter-widgets/base",
            "_model_module_version": "1.2.0",
            "_model_name": "LayoutModel",
            "_view_count": null,
            "_view_module": "@jupyter-widgets/base",
            "_view_module_version": "1.2.0",
            "_view_name": "LayoutView",
            "align_content": null,
            "align_items": null,
            "align_self": null,
            "border": null,
            "bottom": null,
            "display": null,
            "flex": null,
            "flex_flow": null,
            "grid_area": null,
            "grid_auto_columns": null,
            "grid_auto_flow": null,
            "grid_auto_rows": null,
            "grid_column": null,
            "grid_gap": null,
            "grid_row": null,
            "grid_template_areas": null,
            "grid_template_columns": null,
            "grid_template_rows": null,
            "height": null,
            "justify_content": null,
            "justify_items": null,
            "left": null,
            "margin": null,
            "max_height": null,
            "max_width": null,
            "min_height": null,
            "min_width": null,
            "object_fit": null,
            "object_position": null,
            "order": null,
            "overflow": null,
            "overflow_x": null,
            "overflow_y": null,
            "padding": null,
            "right": null,
            "top": null,
            "visibility": null,
            "width": null
          }
        },
        "aa0fb24ba26c45149a86d0a49f538f3f": {
          "model_module": "@jupyter-widgets/base",
          "model_name": "LayoutModel",
          "model_module_version": "1.2.0",
          "state": {
            "_model_module": "@jupyter-widgets/base",
            "_model_module_version": "1.2.0",
            "_model_name": "LayoutModel",
            "_view_count": null,
            "_view_module": "@jupyter-widgets/base",
            "_view_module_version": "1.2.0",
            "_view_name": "LayoutView",
            "align_content": null,
            "align_items": null,
            "align_self": null,
            "border": null,
            "bottom": null,
            "display": null,
            "flex": null,
            "flex_flow": null,
            "grid_area": null,
            "grid_auto_columns": null,
            "grid_auto_flow": null,
            "grid_auto_rows": null,
            "grid_column": null,
            "grid_gap": null,
            "grid_row": null,
            "grid_template_areas": null,
            "grid_template_columns": null,
            "grid_template_rows": null,
            "height": null,
            "justify_content": null,
            "justify_items": null,
            "left": null,
            "margin": null,
            "max_height": null,
            "max_width": null,
            "min_height": null,
            "min_width": null,
            "object_fit": null,
            "object_position": null,
            "order": null,
            "overflow": null,
            "overflow_x": null,
            "overflow_y": null,
            "padding": null,
            "right": null,
            "top": null,
            "visibility": null,
            "width": null
          }
        },
        "ec150e602b60447ea96dd9fe19a451b3": {
          "model_module": "@jupyter-widgets/controls",
          "model_name": "DescriptionStyleModel",
          "model_module_version": "1.5.0",
          "state": {
            "_model_module": "@jupyter-widgets/controls",
            "_model_module_version": "1.5.0",
            "_model_name": "DescriptionStyleModel",
            "_view_count": null,
            "_view_module": "@jupyter-widgets/base",
            "_view_module_version": "1.2.0",
            "_view_name": "StyleView",
            "description_width": ""
          }
        },
        "834b509d755b4b91a23a52c1479a1230": {
          "model_module": "@jupyter-widgets/base",
          "model_name": "LayoutModel",
          "model_module_version": "1.2.0",
          "state": {
            "_model_module": "@jupyter-widgets/base",
            "_model_module_version": "1.2.0",
            "_model_name": "LayoutModel",
            "_view_count": null,
            "_view_module": "@jupyter-widgets/base",
            "_view_module_version": "1.2.0",
            "_view_name": "LayoutView",
            "align_content": null,
            "align_items": null,
            "align_self": null,
            "border": null,
            "bottom": null,
            "display": null,
            "flex": null,
            "flex_flow": null,
            "grid_area": null,
            "grid_auto_columns": null,
            "grid_auto_flow": null,
            "grid_auto_rows": null,
            "grid_column": null,
            "grid_gap": null,
            "grid_row": null,
            "grid_template_areas": null,
            "grid_template_columns": null,
            "grid_template_rows": null,
            "height": null,
            "justify_content": null,
            "justify_items": null,
            "left": null,
            "margin": null,
            "max_height": null,
            "max_width": null,
            "min_height": null,
            "min_width": null,
            "object_fit": null,
            "object_position": null,
            "order": null,
            "overflow": null,
            "overflow_x": null,
            "overflow_y": null,
            "padding": null,
            "right": null,
            "top": null,
            "visibility": null,
            "width": null
          }
        },
        "65e843e66a9c4a35860b5bffca9b98da": {
          "model_module": "@jupyter-widgets/controls",
          "model_name": "ProgressStyleModel",
          "model_module_version": "1.5.0",
          "state": {
            "_model_module": "@jupyter-widgets/controls",
            "_model_module_version": "1.5.0",
            "_model_name": "ProgressStyleModel",
            "_view_count": null,
            "_view_module": "@jupyter-widgets/base",
            "_view_module_version": "1.2.0",
            "_view_name": "StyleView",
            "bar_color": null,
            "description_width": ""
          }
        },
        "f759d1d90ab34af5bfd528af5acc4bd9": {
          "model_module": "@jupyter-widgets/base",
          "model_name": "LayoutModel",
          "model_module_version": "1.2.0",
          "state": {
            "_model_module": "@jupyter-widgets/base",
            "_model_module_version": "1.2.0",
            "_model_name": "LayoutModel",
            "_view_count": null,
            "_view_module": "@jupyter-widgets/base",
            "_view_module_version": "1.2.0",
            "_view_name": "LayoutView",
            "align_content": null,
            "align_items": null,
            "align_self": null,
            "border": null,
            "bottom": null,
            "display": null,
            "flex": null,
            "flex_flow": null,
            "grid_area": null,
            "grid_auto_columns": null,
            "grid_auto_flow": null,
            "grid_auto_rows": null,
            "grid_column": null,
            "grid_gap": null,
            "grid_row": null,
            "grid_template_areas": null,
            "grid_template_columns": null,
            "grid_template_rows": null,
            "height": null,
            "justify_content": null,
            "justify_items": null,
            "left": null,
            "margin": null,
            "max_height": null,
            "max_width": null,
            "min_height": null,
            "min_width": null,
            "object_fit": null,
            "object_position": null,
            "order": null,
            "overflow": null,
            "overflow_x": null,
            "overflow_y": null,
            "padding": null,
            "right": null,
            "top": null,
            "visibility": null,
            "width": null
          }
        },
        "0781007a98044908b16b56b1066e7c61": {
          "model_module": "@jupyter-widgets/controls",
          "model_name": "DescriptionStyleModel",
          "model_module_version": "1.5.0",
          "state": {
            "_model_module": "@jupyter-widgets/controls",
            "_model_module_version": "1.5.0",
            "_model_name": "DescriptionStyleModel",
            "_view_count": null,
            "_view_module": "@jupyter-widgets/base",
            "_view_module_version": "1.2.0",
            "_view_name": "StyleView",
            "description_width": ""
          }
        },
        "6179588736e3404cb7d5e9a8ece0bbb4": {
          "model_module": "@jupyter-widgets/controls",
          "model_name": "HBoxModel",
          "model_module_version": "1.5.0",
          "state": {
            "_dom_classes": [],
            "_model_module": "@jupyter-widgets/controls",
            "_model_module_version": "1.5.0",
            "_model_name": "HBoxModel",
            "_view_count": null,
            "_view_module": "@jupyter-widgets/controls",
            "_view_module_version": "1.5.0",
            "_view_name": "HBoxView",
            "box_style": "",
            "children": [
              "IPY_MODEL_4b4e2aad32b2422f8201ea6b5d0e594a",
              "IPY_MODEL_85f19b1e03e248828a6f8316bbc878bf",
              "IPY_MODEL_2ab0b4c283bc45d98f4be5a4d11cc05f"
            ],
            "layout": "IPY_MODEL_31a46e0a57224eb382f18347b6cba51a"
          }
        },
        "4b4e2aad32b2422f8201ea6b5d0e594a": {
          "model_module": "@jupyter-widgets/controls",
          "model_name": "HTMLModel",
          "model_module_version": "1.5.0",
          "state": {
            "_dom_classes": [],
            "_model_module": "@jupyter-widgets/controls",
            "_model_module_version": "1.5.0",
            "_model_name": "HTMLModel",
            "_view_count": null,
            "_view_module": "@jupyter-widgets/controls",
            "_view_module_version": "1.5.0",
            "_view_name": "HTMLView",
            "description": "",
            "description_tooltip": null,
            "layout": "IPY_MODEL_d937636fc4a94c0d81687fbbfcb61d41",
            "placeholder": "​",
            "style": "IPY_MODEL_635af84e87db445785e24ac7d8345c2a",
            "value": "Downloading pytorch_model.bin: 100%"
          }
        },
        "85f19b1e03e248828a6f8316bbc878bf": {
          "model_module": "@jupyter-widgets/controls",
          "model_name": "FloatProgressModel",
          "model_module_version": "1.5.0",
          "state": {
            "_dom_classes": [],
            "_model_module": "@jupyter-widgets/controls",
            "_model_module_version": "1.5.0",
            "_model_name": "FloatProgressModel",
            "_view_count": null,
            "_view_module": "@jupyter-widgets/controls",
            "_view_module_version": "1.5.0",
            "_view_name": "ProgressView",
            "bar_style": "success",
            "description": "",
            "description_tooltip": null,
            "layout": "IPY_MODEL_f23e5b9aa4c14b19adcd4aab99108a4a",
            "max": 1222317369,
            "min": 0,
            "orientation": "horizontal",
            "style": "IPY_MODEL_2a04c1b713084a0a952a060ee0355b51",
            "value": 1222317369
          }
        },
        "2ab0b4c283bc45d98f4be5a4d11cc05f": {
          "model_module": "@jupyter-widgets/controls",
          "model_name": "HTMLModel",
          "model_module_version": "1.5.0",
          "state": {
            "_dom_classes": [],
            "_model_module": "@jupyter-widgets/controls",
            "_model_module_version": "1.5.0",
            "_model_name": "HTMLModel",
            "_view_count": null,
            "_view_module": "@jupyter-widgets/controls",
            "_view_module_version": "1.5.0",
            "_view_name": "HTMLView",
            "description": "",
            "description_tooltip": null,
            "layout": "IPY_MODEL_2e5196d70fc0488aa1121530fb9c6fee",
            "placeholder": "​",
            "style": "IPY_MODEL_2b52416dde26478d8faff8fa17e39f58",
            "value": " 1.22G/1.22G [01:54&lt;00:00, 19.9MB/s]"
          }
        },
        "31a46e0a57224eb382f18347b6cba51a": {
          "model_module": "@jupyter-widgets/base",
          "model_name": "LayoutModel",
          "model_module_version": "1.2.0",
          "state": {
            "_model_module": "@jupyter-widgets/base",
            "_model_module_version": "1.2.0",
            "_model_name": "LayoutModel",
            "_view_count": null,
            "_view_module": "@jupyter-widgets/base",
            "_view_module_version": "1.2.0",
            "_view_name": "LayoutView",
            "align_content": null,
            "align_items": null,
            "align_self": null,
            "border": null,
            "bottom": null,
            "display": null,
            "flex": null,
            "flex_flow": null,
            "grid_area": null,
            "grid_auto_columns": null,
            "grid_auto_flow": null,
            "grid_auto_rows": null,
            "grid_column": null,
            "grid_gap": null,
            "grid_row": null,
            "grid_template_areas": null,
            "grid_template_columns": null,
            "grid_template_rows": null,
            "height": null,
            "justify_content": null,
            "justify_items": null,
            "left": null,
            "margin": null,
            "max_height": null,
            "max_width": null,
            "min_height": null,
            "min_width": null,
            "object_fit": null,
            "object_position": null,
            "order": null,
            "overflow": null,
            "overflow_x": null,
            "overflow_y": null,
            "padding": null,
            "right": null,
            "top": null,
            "visibility": null,
            "width": null
          }
        },
        "d937636fc4a94c0d81687fbbfcb61d41": {
          "model_module": "@jupyter-widgets/base",
          "model_name": "LayoutModel",
          "model_module_version": "1.2.0",
          "state": {
            "_model_module": "@jupyter-widgets/base",
            "_model_module_version": "1.2.0",
            "_model_name": "LayoutModel",
            "_view_count": null,
            "_view_module": "@jupyter-widgets/base",
            "_view_module_version": "1.2.0",
            "_view_name": "LayoutView",
            "align_content": null,
            "align_items": null,
            "align_self": null,
            "border": null,
            "bottom": null,
            "display": null,
            "flex": null,
            "flex_flow": null,
            "grid_area": null,
            "grid_auto_columns": null,
            "grid_auto_flow": null,
            "grid_auto_rows": null,
            "grid_column": null,
            "grid_gap": null,
            "grid_row": null,
            "grid_template_areas": null,
            "grid_template_columns": null,
            "grid_template_rows": null,
            "height": null,
            "justify_content": null,
            "justify_items": null,
            "left": null,
            "margin": null,
            "max_height": null,
            "max_width": null,
            "min_height": null,
            "min_width": null,
            "object_fit": null,
            "object_position": null,
            "order": null,
            "overflow": null,
            "overflow_x": null,
            "overflow_y": null,
            "padding": null,
            "right": null,
            "top": null,
            "visibility": null,
            "width": null
          }
        },
        "635af84e87db445785e24ac7d8345c2a": {
          "model_module": "@jupyter-widgets/controls",
          "model_name": "DescriptionStyleModel",
          "model_module_version": "1.5.0",
          "state": {
            "_model_module": "@jupyter-widgets/controls",
            "_model_module_version": "1.5.0",
            "_model_name": "DescriptionStyleModel",
            "_view_count": null,
            "_view_module": "@jupyter-widgets/base",
            "_view_module_version": "1.2.0",
            "_view_name": "StyleView",
            "description_width": ""
          }
        },
        "f23e5b9aa4c14b19adcd4aab99108a4a": {
          "model_module": "@jupyter-widgets/base",
          "model_name": "LayoutModel",
          "model_module_version": "1.2.0",
          "state": {
            "_model_module": "@jupyter-widgets/base",
            "_model_module_version": "1.2.0",
            "_model_name": "LayoutModel",
            "_view_count": null,
            "_view_module": "@jupyter-widgets/base",
            "_view_module_version": "1.2.0",
            "_view_name": "LayoutView",
            "align_content": null,
            "align_items": null,
            "align_self": null,
            "border": null,
            "bottom": null,
            "display": null,
            "flex": null,
            "flex_flow": null,
            "grid_area": null,
            "grid_auto_columns": null,
            "grid_auto_flow": null,
            "grid_auto_rows": null,
            "grid_column": null,
            "grid_gap": null,
            "grid_row": null,
            "grid_template_areas": null,
            "grid_template_columns": null,
            "grid_template_rows": null,
            "height": null,
            "justify_content": null,
            "justify_items": null,
            "left": null,
            "margin": null,
            "max_height": null,
            "max_width": null,
            "min_height": null,
            "min_width": null,
            "object_fit": null,
            "object_position": null,
            "order": null,
            "overflow": null,
            "overflow_x": null,
            "overflow_y": null,
            "padding": null,
            "right": null,
            "top": null,
            "visibility": null,
            "width": null
          }
        },
        "2a04c1b713084a0a952a060ee0355b51": {
          "model_module": "@jupyter-widgets/controls",
          "model_name": "ProgressStyleModel",
          "model_module_version": "1.5.0",
          "state": {
            "_model_module": "@jupyter-widgets/controls",
            "_model_module_version": "1.5.0",
            "_model_name": "ProgressStyleModel",
            "_view_count": null,
            "_view_module": "@jupyter-widgets/base",
            "_view_module_version": "1.2.0",
            "_view_name": "StyleView",
            "bar_color": null,
            "description_width": ""
          }
        },
        "2e5196d70fc0488aa1121530fb9c6fee": {
          "model_module": "@jupyter-widgets/base",
          "model_name": "LayoutModel",
          "model_module_version": "1.2.0",
          "state": {
            "_model_module": "@jupyter-widgets/base",
            "_model_module_version": "1.2.0",
            "_model_name": "LayoutModel",
            "_view_count": null,
            "_view_module": "@jupyter-widgets/base",
            "_view_module_version": "1.2.0",
            "_view_name": "LayoutView",
            "align_content": null,
            "align_items": null,
            "align_self": null,
            "border": null,
            "bottom": null,
            "display": null,
            "flex": null,
            "flex_flow": null,
            "grid_area": null,
            "grid_auto_columns": null,
            "grid_auto_flow": null,
            "grid_auto_rows": null,
            "grid_column": null,
            "grid_gap": null,
            "grid_row": null,
            "grid_template_areas": null,
            "grid_template_columns": null,
            "grid_template_rows": null,
            "height": null,
            "justify_content": null,
            "justify_items": null,
            "left": null,
            "margin": null,
            "max_height": null,
            "max_width": null,
            "min_height": null,
            "min_width": null,
            "object_fit": null,
            "object_position": null,
            "order": null,
            "overflow": null,
            "overflow_x": null,
            "overflow_y": null,
            "padding": null,
            "right": null,
            "top": null,
            "visibility": null,
            "width": null
          }
        },
        "2b52416dde26478d8faff8fa17e39f58": {
          "model_module": "@jupyter-widgets/controls",
          "model_name": "DescriptionStyleModel",
          "model_module_version": "1.5.0",
          "state": {
            "_model_module": "@jupyter-widgets/controls",
            "_model_module_version": "1.5.0",
            "_model_name": "DescriptionStyleModel",
            "_view_count": null,
            "_view_module": "@jupyter-widgets/base",
            "_view_module_version": "1.2.0",
            "_view_name": "StyleView",
            "description_width": ""
          }
        },
        "1f6ff710daff44b291db4ed523b96196": {
          "model_module": "@jupyter-widgets/controls",
          "model_name": "HBoxModel",
          "model_module_version": "1.5.0",
          "state": {
            "_dom_classes": [],
            "_model_module": "@jupyter-widgets/controls",
            "_model_module_version": "1.5.0",
            "_model_name": "HBoxModel",
            "_view_count": null,
            "_view_module": "@jupyter-widgets/controls",
            "_view_module_version": "1.5.0",
            "_view_name": "HBoxView",
            "box_style": "",
            "children": [
              "IPY_MODEL_7dd4ece2e19f4afc8d321c5a63b09cd9",
              "IPY_MODEL_bbce9248c2d647d580e05d4c797c826b",
              "IPY_MODEL_ff5415752f454386b7c6450cff3e59eb"
            ],
            "layout": "IPY_MODEL_8ca8e00da0624e51985b9302d4b35ff6"
          }
        },
        "7dd4ece2e19f4afc8d321c5a63b09cd9": {
          "model_module": "@jupyter-widgets/controls",
          "model_name": "HTMLModel",
          "model_module_version": "1.5.0",
          "state": {
            "_dom_classes": [],
            "_model_module": "@jupyter-widgets/controls",
            "_model_module_version": "1.5.0",
            "_model_name": "HTMLModel",
            "_view_count": null,
            "_view_module": "@jupyter-widgets/controls",
            "_view_module_version": "1.5.0",
            "_view_name": "HTMLView",
            "description": "",
            "description_tooltip": null,
            "layout": "IPY_MODEL_6b15aacd093e4621befc36d90783893a",
            "placeholder": "​",
            "style": "IPY_MODEL_3a14cfe99c4e4adabf23570ac9130a04",
            "value": "Downloading (…)okenizer_config.json: 100%"
          }
        },
        "bbce9248c2d647d580e05d4c797c826b": {
          "model_module": "@jupyter-widgets/controls",
          "model_name": "FloatProgressModel",
          "model_module_version": "1.5.0",
          "state": {
            "_dom_classes": [],
            "_model_module": "@jupyter-widgets/controls",
            "_model_module_version": "1.5.0",
            "_model_name": "FloatProgressModel",
            "_view_count": null,
            "_view_module": "@jupyter-widgets/controls",
            "_view_module_version": "1.5.0",
            "_view_name": "ProgressView",
            "bar_style": "success",
            "description": "",
            "description_tooltip": null,
            "layout": "IPY_MODEL_d4425817b9934c25a4af48749ec52581",
            "max": 26,
            "min": 0,
            "orientation": "horizontal",
            "style": "IPY_MODEL_841eea8ced484a019a4e325725967a7f",
            "value": 26
          }
        },
        "ff5415752f454386b7c6450cff3e59eb": {
          "model_module": "@jupyter-widgets/controls",
          "model_name": "HTMLModel",
          "model_module_version": "1.5.0",
          "state": {
            "_dom_classes": [],
            "_model_module": "@jupyter-widgets/controls",
            "_model_module_version": "1.5.0",
            "_model_name": "HTMLModel",
            "_view_count": null,
            "_view_module": "@jupyter-widgets/controls",
            "_view_module_version": "1.5.0",
            "_view_name": "HTMLView",
            "description": "",
            "description_tooltip": null,
            "layout": "IPY_MODEL_b7266b190f424abb9eaabc9571cf5693",
            "placeholder": "​",
            "style": "IPY_MODEL_ec59717e9f8d442bac24a81b01f1b28c",
            "value": " 26.0/26.0 [00:00&lt;00:00, 1.60kB/s]"
          }
        },
        "8ca8e00da0624e51985b9302d4b35ff6": {
          "model_module": "@jupyter-widgets/base",
          "model_name": "LayoutModel",
          "model_module_version": "1.2.0",
          "state": {
            "_model_module": "@jupyter-widgets/base",
            "_model_module_version": "1.2.0",
            "_model_name": "LayoutModel",
            "_view_count": null,
            "_view_module": "@jupyter-widgets/base",
            "_view_module_version": "1.2.0",
            "_view_name": "LayoutView",
            "align_content": null,
            "align_items": null,
            "align_self": null,
            "border": null,
            "bottom": null,
            "display": null,
            "flex": null,
            "flex_flow": null,
            "grid_area": null,
            "grid_auto_columns": null,
            "grid_auto_flow": null,
            "grid_auto_rows": null,
            "grid_column": null,
            "grid_gap": null,
            "grid_row": null,
            "grid_template_areas": null,
            "grid_template_columns": null,
            "grid_template_rows": null,
            "height": null,
            "justify_content": null,
            "justify_items": null,
            "left": null,
            "margin": null,
            "max_height": null,
            "max_width": null,
            "min_height": null,
            "min_width": null,
            "object_fit": null,
            "object_position": null,
            "order": null,
            "overflow": null,
            "overflow_x": null,
            "overflow_y": null,
            "padding": null,
            "right": null,
            "top": null,
            "visibility": null,
            "width": null
          }
        },
        "6b15aacd093e4621befc36d90783893a": {
          "model_module": "@jupyter-widgets/base",
          "model_name": "LayoutModel",
          "model_module_version": "1.2.0",
          "state": {
            "_model_module": "@jupyter-widgets/base",
            "_model_module_version": "1.2.0",
            "_model_name": "LayoutModel",
            "_view_count": null,
            "_view_module": "@jupyter-widgets/base",
            "_view_module_version": "1.2.0",
            "_view_name": "LayoutView",
            "align_content": null,
            "align_items": null,
            "align_self": null,
            "border": null,
            "bottom": null,
            "display": null,
            "flex": null,
            "flex_flow": null,
            "grid_area": null,
            "grid_auto_columns": null,
            "grid_auto_flow": null,
            "grid_auto_rows": null,
            "grid_column": null,
            "grid_gap": null,
            "grid_row": null,
            "grid_template_areas": null,
            "grid_template_columns": null,
            "grid_template_rows": null,
            "height": null,
            "justify_content": null,
            "justify_items": null,
            "left": null,
            "margin": null,
            "max_height": null,
            "max_width": null,
            "min_height": null,
            "min_width": null,
            "object_fit": null,
            "object_position": null,
            "order": null,
            "overflow": null,
            "overflow_x": null,
            "overflow_y": null,
            "padding": null,
            "right": null,
            "top": null,
            "visibility": null,
            "width": null
          }
        },
        "3a14cfe99c4e4adabf23570ac9130a04": {
          "model_module": "@jupyter-widgets/controls",
          "model_name": "DescriptionStyleModel",
          "model_module_version": "1.5.0",
          "state": {
            "_model_module": "@jupyter-widgets/controls",
            "_model_module_version": "1.5.0",
            "_model_name": "DescriptionStyleModel",
            "_view_count": null,
            "_view_module": "@jupyter-widgets/base",
            "_view_module_version": "1.2.0",
            "_view_name": "StyleView",
            "description_width": ""
          }
        },
        "d4425817b9934c25a4af48749ec52581": {
          "model_module": "@jupyter-widgets/base",
          "model_name": "LayoutModel",
          "model_module_version": "1.2.0",
          "state": {
            "_model_module": "@jupyter-widgets/base",
            "_model_module_version": "1.2.0",
            "_model_name": "LayoutModel",
            "_view_count": null,
            "_view_module": "@jupyter-widgets/base",
            "_view_module_version": "1.2.0",
            "_view_name": "LayoutView",
            "align_content": null,
            "align_items": null,
            "align_self": null,
            "border": null,
            "bottom": null,
            "display": null,
            "flex": null,
            "flex_flow": null,
            "grid_area": null,
            "grid_auto_columns": null,
            "grid_auto_flow": null,
            "grid_auto_rows": null,
            "grid_column": null,
            "grid_gap": null,
            "grid_row": null,
            "grid_template_areas": null,
            "grid_template_columns": null,
            "grid_template_rows": null,
            "height": null,
            "justify_content": null,
            "justify_items": null,
            "left": null,
            "margin": null,
            "max_height": null,
            "max_width": null,
            "min_height": null,
            "min_width": null,
            "object_fit": null,
            "object_position": null,
            "order": null,
            "overflow": null,
            "overflow_x": null,
            "overflow_y": null,
            "padding": null,
            "right": null,
            "top": null,
            "visibility": null,
            "width": null
          }
        },
        "841eea8ced484a019a4e325725967a7f": {
          "model_module": "@jupyter-widgets/controls",
          "model_name": "ProgressStyleModel",
          "model_module_version": "1.5.0",
          "state": {
            "_model_module": "@jupyter-widgets/controls",
            "_model_module_version": "1.5.0",
            "_model_name": "ProgressStyleModel",
            "_view_count": null,
            "_view_module": "@jupyter-widgets/base",
            "_view_module_version": "1.2.0",
            "_view_name": "StyleView",
            "bar_color": null,
            "description_width": ""
          }
        },
        "b7266b190f424abb9eaabc9571cf5693": {
          "model_module": "@jupyter-widgets/base",
          "model_name": "LayoutModel",
          "model_module_version": "1.2.0",
          "state": {
            "_model_module": "@jupyter-widgets/base",
            "_model_module_version": "1.2.0",
            "_model_name": "LayoutModel",
            "_view_count": null,
            "_view_module": "@jupyter-widgets/base",
            "_view_module_version": "1.2.0",
            "_view_name": "LayoutView",
            "align_content": null,
            "align_items": null,
            "align_self": null,
            "border": null,
            "bottom": null,
            "display": null,
            "flex": null,
            "flex_flow": null,
            "grid_area": null,
            "grid_auto_columns": null,
            "grid_auto_flow": null,
            "grid_auto_rows": null,
            "grid_column": null,
            "grid_gap": null,
            "grid_row": null,
            "grid_template_areas": null,
            "grid_template_columns": null,
            "grid_template_rows": null,
            "height": null,
            "justify_content": null,
            "justify_items": null,
            "left": null,
            "margin": null,
            "max_height": null,
            "max_width": null,
            "min_height": null,
            "min_width": null,
            "object_fit": null,
            "object_position": null,
            "order": null,
            "overflow": null,
            "overflow_x": null,
            "overflow_y": null,
            "padding": null,
            "right": null,
            "top": null,
            "visibility": null,
            "width": null
          }
        },
        "ec59717e9f8d442bac24a81b01f1b28c": {
          "model_module": "@jupyter-widgets/controls",
          "model_name": "DescriptionStyleModel",
          "model_module_version": "1.5.0",
          "state": {
            "_model_module": "@jupyter-widgets/controls",
            "_model_module_version": "1.5.0",
            "_model_name": "DescriptionStyleModel",
            "_view_count": null,
            "_view_module": "@jupyter-widgets/base",
            "_view_module_version": "1.2.0",
            "_view_name": "StyleView",
            "description_width": ""
          }
        },
        "7a17d9590f8d4024a4e3512213492998": {
          "model_module": "@jupyter-widgets/controls",
          "model_name": "HBoxModel",
          "model_module_version": "1.5.0",
          "state": {
            "_dom_classes": [],
            "_model_module": "@jupyter-widgets/controls",
            "_model_module_version": "1.5.0",
            "_model_name": "HBoxModel",
            "_view_count": null,
            "_view_module": "@jupyter-widgets/controls",
            "_view_module_version": "1.5.0",
            "_view_name": "HBoxView",
            "box_style": "",
            "children": [
              "IPY_MODEL_67e1aa474cd24e46b8e13b840c6eece4",
              "IPY_MODEL_511f7293dcff42bd8872fc0c43d7e170",
              "IPY_MODEL_3e14baf3c725474cb1d5529d77519387"
            ],
            "layout": "IPY_MODEL_436d6529c2d34ca7b8fdc8d67cdcd016"
          }
        },
        "67e1aa474cd24e46b8e13b840c6eece4": {
          "model_module": "@jupyter-widgets/controls",
          "model_name": "HTMLModel",
          "model_module_version": "1.5.0",
          "state": {
            "_dom_classes": [],
            "_model_module": "@jupyter-widgets/controls",
            "_model_module_version": "1.5.0",
            "_model_name": "HTMLModel",
            "_view_count": null,
            "_view_module": "@jupyter-widgets/controls",
            "_view_module_version": "1.5.0",
            "_view_name": "HTMLView",
            "description": "",
            "description_tooltip": null,
            "layout": "IPY_MODEL_79e88becd38849a395cc21ce492ba20f",
            "placeholder": "​",
            "style": "IPY_MODEL_80a5e2d874cb478abdb51c8d22779ffa",
            "value": "Downloading (…)olve/main/vocab.json: 100%"
          }
        },
        "511f7293dcff42bd8872fc0c43d7e170": {
          "model_module": "@jupyter-widgets/controls",
          "model_name": "FloatProgressModel",
          "model_module_version": "1.5.0",
          "state": {
            "_dom_classes": [],
            "_model_module": "@jupyter-widgets/controls",
            "_model_module_version": "1.5.0",
            "_model_name": "FloatProgressModel",
            "_view_count": null,
            "_view_module": "@jupyter-widgets/controls",
            "_view_module_version": "1.5.0",
            "_view_name": "ProgressView",
            "bar_style": "success",
            "description": "",
            "description_tooltip": null,
            "layout": "IPY_MODEL_68d946f333584e04bf7d7dd17d118261",
            "max": 898822,
            "min": 0,
            "orientation": "horizontal",
            "style": "IPY_MODEL_c22afea0cefe4c4d9ad265577cd91807",
            "value": 898822
          }
        },
        "3e14baf3c725474cb1d5529d77519387": {
          "model_module": "@jupyter-widgets/controls",
          "model_name": "HTMLModel",
          "model_module_version": "1.5.0",
          "state": {
            "_dom_classes": [],
            "_model_module": "@jupyter-widgets/controls",
            "_model_module_version": "1.5.0",
            "_model_name": "HTMLModel",
            "_view_count": null,
            "_view_module": "@jupyter-widgets/controls",
            "_view_module_version": "1.5.0",
            "_view_name": "HTMLView",
            "description": "",
            "description_tooltip": null,
            "layout": "IPY_MODEL_94420ed7d38842069c943417947a01b4",
            "placeholder": "​",
            "style": "IPY_MODEL_84d94c2498aa44b2b5cf909706ccf091",
            "value": " 899k/899k [00:00&lt;00:00, 32.6MB/s]"
          }
        },
        "436d6529c2d34ca7b8fdc8d67cdcd016": {
          "model_module": "@jupyter-widgets/base",
          "model_name": "LayoutModel",
          "model_module_version": "1.2.0",
          "state": {
            "_model_module": "@jupyter-widgets/base",
            "_model_module_version": "1.2.0",
            "_model_name": "LayoutModel",
            "_view_count": null,
            "_view_module": "@jupyter-widgets/base",
            "_view_module_version": "1.2.0",
            "_view_name": "LayoutView",
            "align_content": null,
            "align_items": null,
            "align_self": null,
            "border": null,
            "bottom": null,
            "display": null,
            "flex": null,
            "flex_flow": null,
            "grid_area": null,
            "grid_auto_columns": null,
            "grid_auto_flow": null,
            "grid_auto_rows": null,
            "grid_column": null,
            "grid_gap": null,
            "grid_row": null,
            "grid_template_areas": null,
            "grid_template_columns": null,
            "grid_template_rows": null,
            "height": null,
            "justify_content": null,
            "justify_items": null,
            "left": null,
            "margin": null,
            "max_height": null,
            "max_width": null,
            "min_height": null,
            "min_width": null,
            "object_fit": null,
            "object_position": null,
            "order": null,
            "overflow": null,
            "overflow_x": null,
            "overflow_y": null,
            "padding": null,
            "right": null,
            "top": null,
            "visibility": null,
            "width": null
          }
        },
        "79e88becd38849a395cc21ce492ba20f": {
          "model_module": "@jupyter-widgets/base",
          "model_name": "LayoutModel",
          "model_module_version": "1.2.0",
          "state": {
            "_model_module": "@jupyter-widgets/base",
            "_model_module_version": "1.2.0",
            "_model_name": "LayoutModel",
            "_view_count": null,
            "_view_module": "@jupyter-widgets/base",
            "_view_module_version": "1.2.0",
            "_view_name": "LayoutView",
            "align_content": null,
            "align_items": null,
            "align_self": null,
            "border": null,
            "bottom": null,
            "display": null,
            "flex": null,
            "flex_flow": null,
            "grid_area": null,
            "grid_auto_columns": null,
            "grid_auto_flow": null,
            "grid_auto_rows": null,
            "grid_column": null,
            "grid_gap": null,
            "grid_row": null,
            "grid_template_areas": null,
            "grid_template_columns": null,
            "grid_template_rows": null,
            "height": null,
            "justify_content": null,
            "justify_items": null,
            "left": null,
            "margin": null,
            "max_height": null,
            "max_width": null,
            "min_height": null,
            "min_width": null,
            "object_fit": null,
            "object_position": null,
            "order": null,
            "overflow": null,
            "overflow_x": null,
            "overflow_y": null,
            "padding": null,
            "right": null,
            "top": null,
            "visibility": null,
            "width": null
          }
        },
        "80a5e2d874cb478abdb51c8d22779ffa": {
          "model_module": "@jupyter-widgets/controls",
          "model_name": "DescriptionStyleModel",
          "model_module_version": "1.5.0",
          "state": {
            "_model_module": "@jupyter-widgets/controls",
            "_model_module_version": "1.5.0",
            "_model_name": "DescriptionStyleModel",
            "_view_count": null,
            "_view_module": "@jupyter-widgets/base",
            "_view_module_version": "1.2.0",
            "_view_name": "StyleView",
            "description_width": ""
          }
        },
        "68d946f333584e04bf7d7dd17d118261": {
          "model_module": "@jupyter-widgets/base",
          "model_name": "LayoutModel",
          "model_module_version": "1.2.0",
          "state": {
            "_model_module": "@jupyter-widgets/base",
            "_model_module_version": "1.2.0",
            "_model_name": "LayoutModel",
            "_view_count": null,
            "_view_module": "@jupyter-widgets/base",
            "_view_module_version": "1.2.0",
            "_view_name": "LayoutView",
            "align_content": null,
            "align_items": null,
            "align_self": null,
            "border": null,
            "bottom": null,
            "display": null,
            "flex": null,
            "flex_flow": null,
            "grid_area": null,
            "grid_auto_columns": null,
            "grid_auto_flow": null,
            "grid_auto_rows": null,
            "grid_column": null,
            "grid_gap": null,
            "grid_row": null,
            "grid_template_areas": null,
            "grid_template_columns": null,
            "grid_template_rows": null,
            "height": null,
            "justify_content": null,
            "justify_items": null,
            "left": null,
            "margin": null,
            "max_height": null,
            "max_width": null,
            "min_height": null,
            "min_width": null,
            "object_fit": null,
            "object_position": null,
            "order": null,
            "overflow": null,
            "overflow_x": null,
            "overflow_y": null,
            "padding": null,
            "right": null,
            "top": null,
            "visibility": null,
            "width": null
          }
        },
        "c22afea0cefe4c4d9ad265577cd91807": {
          "model_module": "@jupyter-widgets/controls",
          "model_name": "ProgressStyleModel",
          "model_module_version": "1.5.0",
          "state": {
            "_model_module": "@jupyter-widgets/controls",
            "_model_module_version": "1.5.0",
            "_model_name": "ProgressStyleModel",
            "_view_count": null,
            "_view_module": "@jupyter-widgets/base",
            "_view_module_version": "1.2.0",
            "_view_name": "StyleView",
            "bar_color": null,
            "description_width": ""
          }
        },
        "94420ed7d38842069c943417947a01b4": {
          "model_module": "@jupyter-widgets/base",
          "model_name": "LayoutModel",
          "model_module_version": "1.2.0",
          "state": {
            "_model_module": "@jupyter-widgets/base",
            "_model_module_version": "1.2.0",
            "_model_name": "LayoutModel",
            "_view_count": null,
            "_view_module": "@jupyter-widgets/base",
            "_view_module_version": "1.2.0",
            "_view_name": "LayoutView",
            "align_content": null,
            "align_items": null,
            "align_self": null,
            "border": null,
            "bottom": null,
            "display": null,
            "flex": null,
            "flex_flow": null,
            "grid_area": null,
            "grid_auto_columns": null,
            "grid_auto_flow": null,
            "grid_auto_rows": null,
            "grid_column": null,
            "grid_gap": null,
            "grid_row": null,
            "grid_template_areas": null,
            "grid_template_columns": null,
            "grid_template_rows": null,
            "height": null,
            "justify_content": null,
            "justify_items": null,
            "left": null,
            "margin": null,
            "max_height": null,
            "max_width": null,
            "min_height": null,
            "min_width": null,
            "object_fit": null,
            "object_position": null,
            "order": null,
            "overflow": null,
            "overflow_x": null,
            "overflow_y": null,
            "padding": null,
            "right": null,
            "top": null,
            "visibility": null,
            "width": null
          }
        },
        "84d94c2498aa44b2b5cf909706ccf091": {
          "model_module": "@jupyter-widgets/controls",
          "model_name": "DescriptionStyleModel",
          "model_module_version": "1.5.0",
          "state": {
            "_model_module": "@jupyter-widgets/controls",
            "_model_module_version": "1.5.0",
            "_model_name": "DescriptionStyleModel",
            "_view_count": null,
            "_view_module": "@jupyter-widgets/base",
            "_view_module_version": "1.2.0",
            "_view_name": "StyleView",
            "description_width": ""
          }
        },
        "d95fd3b8a91641b28f5fc94e50575795": {
          "model_module": "@jupyter-widgets/controls",
          "model_name": "HBoxModel",
          "model_module_version": "1.5.0",
          "state": {
            "_dom_classes": [],
            "_model_module": "@jupyter-widgets/controls",
            "_model_module_version": "1.5.0",
            "_model_name": "HBoxModel",
            "_view_count": null,
            "_view_module": "@jupyter-widgets/controls",
            "_view_module_version": "1.5.0",
            "_view_name": "HBoxView",
            "box_style": "",
            "children": [
              "IPY_MODEL_d8e1cc55f1a243738704a15729fe6944",
              "IPY_MODEL_5e7b858d2d404555976f6f43d3dbe0db",
              "IPY_MODEL_4118ac9b452b4bcf954e2575e3343f06"
            ],
            "layout": "IPY_MODEL_7b3f5d308b0249378e2dacc6a30a5256"
          }
        },
        "d8e1cc55f1a243738704a15729fe6944": {
          "model_module": "@jupyter-widgets/controls",
          "model_name": "HTMLModel",
          "model_module_version": "1.5.0",
          "state": {
            "_dom_classes": [],
            "_model_module": "@jupyter-widgets/controls",
            "_model_module_version": "1.5.0",
            "_model_name": "HTMLModel",
            "_view_count": null,
            "_view_module": "@jupyter-widgets/controls",
            "_view_module_version": "1.5.0",
            "_view_name": "HTMLView",
            "description": "",
            "description_tooltip": null,
            "layout": "IPY_MODEL_d0268811063d45b28af247b3a9818906",
            "placeholder": "​",
            "style": "IPY_MODEL_c242683a3c3142659736b3bda50b6874",
            "value": "Downloading (…)olve/main/merges.txt: 100%"
          }
        },
        "5e7b858d2d404555976f6f43d3dbe0db": {
          "model_module": "@jupyter-widgets/controls",
          "model_name": "FloatProgressModel",
          "model_module_version": "1.5.0",
          "state": {
            "_dom_classes": [],
            "_model_module": "@jupyter-widgets/controls",
            "_model_module_version": "1.5.0",
            "_model_name": "FloatProgressModel",
            "_view_count": null,
            "_view_module": "@jupyter-widgets/controls",
            "_view_module_version": "1.5.0",
            "_view_name": "ProgressView",
            "bar_style": "success",
            "description": "",
            "description_tooltip": null,
            "layout": "IPY_MODEL_321de3e3b0c9438cbf2e5cecad05a105",
            "max": 456318,
            "min": 0,
            "orientation": "horizontal",
            "style": "IPY_MODEL_1f56a7b191f74ba89ac6b33f72c47d1e",
            "value": 456318
          }
        },
        "4118ac9b452b4bcf954e2575e3343f06": {
          "model_module": "@jupyter-widgets/controls",
          "model_name": "HTMLModel",
          "model_module_version": "1.5.0",
          "state": {
            "_dom_classes": [],
            "_model_module": "@jupyter-widgets/controls",
            "_model_module_version": "1.5.0",
            "_model_name": "HTMLModel",
            "_view_count": null,
            "_view_module": "@jupyter-widgets/controls",
            "_view_module_version": "1.5.0",
            "_view_name": "HTMLView",
            "description": "",
            "description_tooltip": null,
            "layout": "IPY_MODEL_7e3392f04f41440b9062ad4df14c5c0c",
            "placeholder": "​",
            "style": "IPY_MODEL_302453ee2fac47f0a7e13baa4c147b99",
            "value": " 456k/456k [00:00&lt;00:00, 25.5MB/s]"
          }
        },
        "7b3f5d308b0249378e2dacc6a30a5256": {
          "model_module": "@jupyter-widgets/base",
          "model_name": "LayoutModel",
          "model_module_version": "1.2.0",
          "state": {
            "_model_module": "@jupyter-widgets/base",
            "_model_module_version": "1.2.0",
            "_model_name": "LayoutModel",
            "_view_count": null,
            "_view_module": "@jupyter-widgets/base",
            "_view_module_version": "1.2.0",
            "_view_name": "LayoutView",
            "align_content": null,
            "align_items": null,
            "align_self": null,
            "border": null,
            "bottom": null,
            "display": null,
            "flex": null,
            "flex_flow": null,
            "grid_area": null,
            "grid_auto_columns": null,
            "grid_auto_flow": null,
            "grid_auto_rows": null,
            "grid_column": null,
            "grid_gap": null,
            "grid_row": null,
            "grid_template_areas": null,
            "grid_template_columns": null,
            "grid_template_rows": null,
            "height": null,
            "justify_content": null,
            "justify_items": null,
            "left": null,
            "margin": null,
            "max_height": null,
            "max_width": null,
            "min_height": null,
            "min_width": null,
            "object_fit": null,
            "object_position": null,
            "order": null,
            "overflow": null,
            "overflow_x": null,
            "overflow_y": null,
            "padding": null,
            "right": null,
            "top": null,
            "visibility": null,
            "width": null
          }
        },
        "d0268811063d45b28af247b3a9818906": {
          "model_module": "@jupyter-widgets/base",
          "model_name": "LayoutModel",
          "model_module_version": "1.2.0",
          "state": {
            "_model_module": "@jupyter-widgets/base",
            "_model_module_version": "1.2.0",
            "_model_name": "LayoutModel",
            "_view_count": null,
            "_view_module": "@jupyter-widgets/base",
            "_view_module_version": "1.2.0",
            "_view_name": "LayoutView",
            "align_content": null,
            "align_items": null,
            "align_self": null,
            "border": null,
            "bottom": null,
            "display": null,
            "flex": null,
            "flex_flow": null,
            "grid_area": null,
            "grid_auto_columns": null,
            "grid_auto_flow": null,
            "grid_auto_rows": null,
            "grid_column": null,
            "grid_gap": null,
            "grid_row": null,
            "grid_template_areas": null,
            "grid_template_columns": null,
            "grid_template_rows": null,
            "height": null,
            "justify_content": null,
            "justify_items": null,
            "left": null,
            "margin": null,
            "max_height": null,
            "max_width": null,
            "min_height": null,
            "min_width": null,
            "object_fit": null,
            "object_position": null,
            "order": null,
            "overflow": null,
            "overflow_x": null,
            "overflow_y": null,
            "padding": null,
            "right": null,
            "top": null,
            "visibility": null,
            "width": null
          }
        },
        "c242683a3c3142659736b3bda50b6874": {
          "model_module": "@jupyter-widgets/controls",
          "model_name": "DescriptionStyleModel",
          "model_module_version": "1.5.0",
          "state": {
            "_model_module": "@jupyter-widgets/controls",
            "_model_module_version": "1.5.0",
            "_model_name": "DescriptionStyleModel",
            "_view_count": null,
            "_view_module": "@jupyter-widgets/base",
            "_view_module_version": "1.2.0",
            "_view_name": "StyleView",
            "description_width": ""
          }
        },
        "321de3e3b0c9438cbf2e5cecad05a105": {
          "model_module": "@jupyter-widgets/base",
          "model_name": "LayoutModel",
          "model_module_version": "1.2.0",
          "state": {
            "_model_module": "@jupyter-widgets/base",
            "_model_module_version": "1.2.0",
            "_model_name": "LayoutModel",
            "_view_count": null,
            "_view_module": "@jupyter-widgets/base",
            "_view_module_version": "1.2.0",
            "_view_name": "LayoutView",
            "align_content": null,
            "align_items": null,
            "align_self": null,
            "border": null,
            "bottom": null,
            "display": null,
            "flex": null,
            "flex_flow": null,
            "grid_area": null,
            "grid_auto_columns": null,
            "grid_auto_flow": null,
            "grid_auto_rows": null,
            "grid_column": null,
            "grid_gap": null,
            "grid_row": null,
            "grid_template_areas": null,
            "grid_template_columns": null,
            "grid_template_rows": null,
            "height": null,
            "justify_content": null,
            "justify_items": null,
            "left": null,
            "margin": null,
            "max_height": null,
            "max_width": null,
            "min_height": null,
            "min_width": null,
            "object_fit": null,
            "object_position": null,
            "order": null,
            "overflow": null,
            "overflow_x": null,
            "overflow_y": null,
            "padding": null,
            "right": null,
            "top": null,
            "visibility": null,
            "width": null
          }
        },
        "1f56a7b191f74ba89ac6b33f72c47d1e": {
          "model_module": "@jupyter-widgets/controls",
          "model_name": "ProgressStyleModel",
          "model_module_version": "1.5.0",
          "state": {
            "_model_module": "@jupyter-widgets/controls",
            "_model_module_version": "1.5.0",
            "_model_name": "ProgressStyleModel",
            "_view_count": null,
            "_view_module": "@jupyter-widgets/base",
            "_view_module_version": "1.2.0",
            "_view_name": "StyleView",
            "bar_color": null,
            "description_width": ""
          }
        },
        "7e3392f04f41440b9062ad4df14c5c0c": {
          "model_module": "@jupyter-widgets/base",
          "model_name": "LayoutModel",
          "model_module_version": "1.2.0",
          "state": {
            "_model_module": "@jupyter-widgets/base",
            "_model_module_version": "1.2.0",
            "_model_name": "LayoutModel",
            "_view_count": null,
            "_view_module": "@jupyter-widgets/base",
            "_view_module_version": "1.2.0",
            "_view_name": "LayoutView",
            "align_content": null,
            "align_items": null,
            "align_self": null,
            "border": null,
            "bottom": null,
            "display": null,
            "flex": null,
            "flex_flow": null,
            "grid_area": null,
            "grid_auto_columns": null,
            "grid_auto_flow": null,
            "grid_auto_rows": null,
            "grid_column": null,
            "grid_gap": null,
            "grid_row": null,
            "grid_template_areas": null,
            "grid_template_columns": null,
            "grid_template_rows": null,
            "height": null,
            "justify_content": null,
            "justify_items": null,
            "left": null,
            "margin": null,
            "max_height": null,
            "max_width": null,
            "min_height": null,
            "min_width": null,
            "object_fit": null,
            "object_position": null,
            "order": null,
            "overflow": null,
            "overflow_x": null,
            "overflow_y": null,
            "padding": null,
            "right": null,
            "top": null,
            "visibility": null,
            "width": null
          }
        },
        "302453ee2fac47f0a7e13baa4c147b99": {
          "model_module": "@jupyter-widgets/controls",
          "model_name": "DescriptionStyleModel",
          "model_module_version": "1.5.0",
          "state": {
            "_model_module": "@jupyter-widgets/controls",
            "_model_module_version": "1.5.0",
            "_model_name": "DescriptionStyleModel",
            "_view_count": null,
            "_view_module": "@jupyter-widgets/base",
            "_view_module_version": "1.2.0",
            "_view_name": "StyleView",
            "description_width": ""
          }
        }
      }
    }
  },
  "cells": [
    {
      "cell_type": "markdown",
      "metadata": {
        "id": "view-in-github",
        "colab_type": "text"
      },
      "source": [
        "<a href=\"https://colab.research.google.com/github/magaavelan/MathServer/blob/main/mini_project.ipynb\" target=\"_parent\"><img src=\"https://colab.research.google.com/assets/colab-badge.svg\" alt=\"Open In Colab\"/></a>"
      ]
    },
    {
      "cell_type": "code",
      "source": [
        "!pip install -q transformers"
      ],
      "metadata": {
        "colab": {
          "base_uri": "https://localhost:8080/"
        },
        "id": "gLZXTqDWfLGK",
        "outputId": "4f320cda-fa64-4836-873c-891e8110db1d"
      },
      "execution_count": null,
      "outputs": [
        {
          "output_type": "stream",
          "name": "stdout",
          "text": [
            "\u001b[2K     \u001b[90m━━━━━━━━━━━━━━━━━━━━━━━━━━━━━━━━━━━━━━━━\u001b[0m \u001b[32m7.7/7.7 MB\u001b[0m \u001b[31m61.9 MB/s\u001b[0m eta \u001b[36m0:00:00\u001b[0m\n",
            "\u001b[2K     \u001b[90m━━━━━━━━━━━━━━━━━━━━━━━━━━━━━━━━━━━━━━━━\u001b[0m \u001b[32m302.0/302.0 kB\u001b[0m \u001b[31m33.7 MB/s\u001b[0m eta \u001b[36m0:00:00\u001b[0m\n",
            "\u001b[2K     \u001b[90m━━━━━━━━━━━━━━━━━━━━━━━━━━━━━━━━━━━━━━━━\u001b[0m \u001b[32m3.8/3.8 MB\u001b[0m \u001b[31m95.0 MB/s\u001b[0m eta \u001b[36m0:00:00\u001b[0m\n",
            "\u001b[2K     \u001b[90m━━━━━━━━━━━━━━━━━━━━━━━━━━━━━━━━━━━━━━━━\u001b[0m \u001b[32m1.3/1.3 MB\u001b[0m \u001b[31m77.5 MB/s\u001b[0m eta \u001b[36m0:00:00\u001b[0m\n",
            "\u001b[2K     \u001b[90m━━━━━━━━━━━━━━━━━━━━━━━━━━━━━━━━━━━━━━━━\u001b[0m \u001b[32m295.0/295.0 kB\u001b[0m \u001b[31m32.1 MB/s\u001b[0m eta \u001b[36m0:00:00\u001b[0m\n",
            "\u001b[?25h"
          ]
        }
      ]
    },
    {
      "cell_type": "code",
      "source": [
        "!pip install -q youtube_transcript_api"
      ],
      "metadata": {
        "id": "_y2rRmrsmOEv"
      },
      "execution_count": null,
      "outputs": []
    },
    {
      "cell_type": "code",
      "source": [
        "from transformers import pipeline\n",
        "from youtube_transcript_api import YouTubeTranscriptApi\n"
      ],
      "metadata": {
        "id": "BqgVS5N9mOJn"
      },
      "execution_count": null,
      "outputs": []
    },
    {
      "cell_type": "code",
      "source": [
        "youtube_video = \"https://www.youtube.com/watch?v=A4OmtyaBHFE\""
      ],
      "metadata": {
        "id": "PXbBfUdTmORB"
      },
      "execution_count": null,
      "outputs": []
    },
    {
      "cell_type": "code",
      "source": [
        "youtube_video = \"https://www.youtube.com/watch?v=Hu4Yvq-g7_Y&ab_channel=TEDxTalks\""
      ],
      "metadata": {
        "id": "FyigQwB2sVqY"
      },
      "execution_count": null,
      "outputs": []
    },
    {
      "cell_type": "code",
      "source": [
        "video_id = youtube_video.split(\"=\")[1]"
      ],
      "metadata": {
        "id": "o3ei2NB6mOXQ"
      },
      "execution_count": null,
      "outputs": []
    },
    {
      "cell_type": "code",
      "source": [
        "video_id"
      ],
      "metadata": {
        "colab": {
          "base_uri": "https://localhost:8080/",
          "height": 36
        },
        "id": "LW2YuVx8mOcO",
        "outputId": "04781da9-aa21-4d5b-ba5b-1f9af45384b0"
      },
      "execution_count": null,
      "outputs": [
        {
          "output_type": "execute_result",
          "data": {
            "text/plain": [
              "'Hu4Yvq-g7_Y&ab_channel'"
            ],
            "application/vnd.google.colaboratory.intrinsic+json": {
              "type": "string"
            }
          },
          "metadata": {},
          "execution_count": 8
        }
      ]
    },
    {
      "cell_type": "code",
      "source": [
        "YouTubeTranscriptApi.get_transcript(video_id)\n",
        "transcript = YouTubeTranscriptApi.get_transcript(video_id)\n"
      ],
      "metadata": {
        "id": "XV0BsBmdmOn5"
      },
      "execution_count": null,
      "outputs": []
    },
    {
      "cell_type": "code",
      "source": [
        "transcript[0:5]"
      ],
      "metadata": {
        "colab": {
          "base_uri": "https://localhost:8080/"
        },
        "id": "Be9tN9H9mOvi",
        "outputId": "7371abd5-3484-4d12-b891-24d2393b64c7"
      },
      "execution_count": null,
      "outputs": [
        {
          "output_type": "execute_result",
          "data": {
            "text/plain": [
              "[{'text': 'Translator: Viviane P.\\nReviewer: Amanda Chu',\n",
              "  'start': 0.0,\n",
              "  'duration': 6.575},\n",
              " {'text': 'A few years ago,', 'start': 6.575, 'duration': 1.681},\n",
              " {'text': 'I began to observe\\nsomething in my own behavior',\n",
              "  'start': 8.256,\n",
              "  'duration': 4.286},\n",
              " {'text': 'that made me a bit uncomfortable.',\n",
              "  'start': 12.542,\n",
              "  'duration': 4.103},\n",
              " {'text': 'And that was that from the moment\\nthat I woke up to the end of the day,',\n",
              "  'start': 16.645,\n",
              "  'duration': 5.882}]"
            ]
          },
          "metadata": {},
          "execution_count": 7
        }
      ]
    },
    {
      "cell_type": "code",
      "source": [
        "\n",
        "result = \"\"\n",
        "for i in transcript:\n",
        "    result += ' ' + i['text']\n",
        "#print(result)\n",
        "print(len(result))"
      ],
      "metadata": {
        "colab": {
          "base_uri": "https://localhost:8080/"
        },
        "id": "EakR_GNQmO1j",
        "outputId": "10013022-94dc-4d68-c87a-8622b18cf97e"
      },
      "execution_count": null,
      "outputs": [
        {
          "output_type": "stream",
          "name": "stdout",
          "text": [
            "13696\n"
          ]
        }
      ]
    },
    {
      "cell_type": "code",
      "source": [
        "summarizer = pipeline('summarization')"
      ],
      "metadata": {
        "colab": {
          "base_uri": "https://localhost:8080/",
          "height": 213,
          "referenced_widgets": [
            "b96869f0f4ea458785a0b99159c393e8",
            "2bd8dd54ed9d4861add1bf8ee647ff9c",
            "1895b3732a464c92be3fadabd95f27fb",
            "6704f7a2cfed4a8fa63902dafc8b4123",
            "0265bf3dc5a6419e932ba894687ff964",
            "aa0fb24ba26c45149a86d0a49f538f3f",
            "ec150e602b60447ea96dd9fe19a451b3",
            "834b509d755b4b91a23a52c1479a1230",
            "65e843e66a9c4a35860b5bffca9b98da",
            "f759d1d90ab34af5bfd528af5acc4bd9",
            "0781007a98044908b16b56b1066e7c61",
            "6179588736e3404cb7d5e9a8ece0bbb4",
            "4b4e2aad32b2422f8201ea6b5d0e594a",
            "85f19b1e03e248828a6f8316bbc878bf",
            "2ab0b4c283bc45d98f4be5a4d11cc05f",
            "31a46e0a57224eb382f18347b6cba51a",
            "d937636fc4a94c0d81687fbbfcb61d41",
            "635af84e87db445785e24ac7d8345c2a",
            "f23e5b9aa4c14b19adcd4aab99108a4a",
            "2a04c1b713084a0a952a060ee0355b51",
            "2e5196d70fc0488aa1121530fb9c6fee",
            "2b52416dde26478d8faff8fa17e39f58",
            "1f6ff710daff44b291db4ed523b96196",
            "7dd4ece2e19f4afc8d321c5a63b09cd9",
            "bbce9248c2d647d580e05d4c797c826b",
            "ff5415752f454386b7c6450cff3e59eb",
            "8ca8e00da0624e51985b9302d4b35ff6",
            "6b15aacd093e4621befc36d90783893a",
            "3a14cfe99c4e4adabf23570ac9130a04",
            "d4425817b9934c25a4af48749ec52581",
            "841eea8ced484a019a4e325725967a7f",
            "b7266b190f424abb9eaabc9571cf5693",
            "ec59717e9f8d442bac24a81b01f1b28c",
            "7a17d9590f8d4024a4e3512213492998",
            "67e1aa474cd24e46b8e13b840c6eece4",
            "511f7293dcff42bd8872fc0c43d7e170",
            "3e14baf3c725474cb1d5529d77519387",
            "436d6529c2d34ca7b8fdc8d67cdcd016",
            "79e88becd38849a395cc21ce492ba20f",
            "80a5e2d874cb478abdb51c8d22779ffa",
            "68d946f333584e04bf7d7dd17d118261",
            "c22afea0cefe4c4d9ad265577cd91807",
            "94420ed7d38842069c943417947a01b4",
            "84d94c2498aa44b2b5cf909706ccf091",
            "d95fd3b8a91641b28f5fc94e50575795",
            "d8e1cc55f1a243738704a15729fe6944",
            "5e7b858d2d404555976f6f43d3dbe0db",
            "4118ac9b452b4bcf954e2575e3343f06",
            "7b3f5d308b0249378e2dacc6a30a5256",
            "d0268811063d45b28af247b3a9818906",
            "c242683a3c3142659736b3bda50b6874",
            "321de3e3b0c9438cbf2e5cecad05a105",
            "1f56a7b191f74ba89ac6b33f72c47d1e",
            "7e3392f04f41440b9062ad4df14c5c0c",
            "302453ee2fac47f0a7e13baa4c147b99"
          ]
        },
        "id": "KhFsPs_3mO6x",
        "outputId": "dab7d515-cd09-4277-a631-2b86d02ed541"
      },
      "execution_count": null,
      "outputs": [
        {
          "output_type": "stream",
          "name": "stderr",
          "text": [
            "No model was supplied, defaulted to sshleifer/distilbart-cnn-12-6 and revision a4f8f3e (https://huggingface.co/sshleifer/distilbart-cnn-12-6).\n",
            "Using a pipeline without specifying a model name and revision in production is not recommended.\n"
          ]
        },
        {
          "output_type": "display_data",
          "data": {
            "text/plain": [
              "Downloading (…)lve/main/config.json:   0%|          | 0.00/1.80k [00:00<?, ?B/s]"
            ],
            "application/vnd.jupyter.widget-view+json": {
              "version_major": 2,
              "version_minor": 0,
              "model_id": "b96869f0f4ea458785a0b99159c393e8"
            }
          },
          "metadata": {}
        },
        {
          "output_type": "display_data",
          "data": {
            "text/plain": [
              "Downloading pytorch_model.bin:   0%|          | 0.00/1.22G [00:00<?, ?B/s]"
            ],
            "application/vnd.jupyter.widget-view+json": {
              "version_major": 2,
              "version_minor": 0,
              "model_id": "6179588736e3404cb7d5e9a8ece0bbb4"
            }
          },
          "metadata": {}
        },
        {
          "output_type": "display_data",
          "data": {
            "text/plain": [
              "Downloading (…)okenizer_config.json:   0%|          | 0.00/26.0 [00:00<?, ?B/s]"
            ],
            "application/vnd.jupyter.widget-view+json": {
              "version_major": 2,
              "version_minor": 0,
              "model_id": "1f6ff710daff44b291db4ed523b96196"
            }
          },
          "metadata": {}
        },
        {
          "output_type": "display_data",
          "data": {
            "text/plain": [
              "Downloading (…)olve/main/vocab.json:   0%|          | 0.00/899k [00:00<?, ?B/s]"
            ],
            "application/vnd.jupyter.widget-view+json": {
              "version_major": 2,
              "version_minor": 0,
              "model_id": "7a17d9590f8d4024a4e3512213492998"
            }
          },
          "metadata": {}
        },
        {
          "output_type": "display_data",
          "data": {
            "text/plain": [
              "Downloading (…)olve/main/merges.txt:   0%|          | 0.00/456k [00:00<?, ?B/s]"
            ],
            "application/vnd.jupyter.widget-view+json": {
              "version_major": 2,
              "version_minor": 0,
              "model_id": "d95fd3b8a91641b28f5fc94e50575795"
            }
          },
          "metadata": {}
        }
      ]
    },
    {
      "cell_type": "code",
      "source": [
        "num_iters = int(len(result)/1000)\n",
        "summarized_text = []\n",
        "for i in range(0, num_iters + 1):\n",
        "  start = 0\n",
        "  start = i * 1000\n",
        "  end = (i + 1) * 1000\n",
        "  print(\"input text \\n\" + result[start:end])\n",
        "  out = summarizer(result[start:end])\n",
        "  out = out[0]\n",
        "  out = out['summary_text']\n",
        "  print(\"Summarized text\\n\"+out)\n",
        "  summarized_text.append(out)\n",
        "\n"
      ],
      "metadata": {
        "colab": {
          "base_uri": "https://localhost:8080/"
        },
        "id": "yKvUDXIEmO_t",
        "outputId": "fd7b6f33-821e-4ba1-e21e-e652306694bc"
      },
      "execution_count": null,
      "outputs": [
        {
          "output_type": "stream",
          "name": "stdout",
          "text": [
            "input text \n",
            " Translator: Viviane P.\n",
            "Reviewer: Amanda Chu A few years ago, I began to observe\n",
            "something in my own behavior that made me a bit uncomfortable. And that was that from the moment\n",
            "that I woke up to the end of the day, my life was a series of screens. I started the day with the thing that woke me up\n",
            "first thing in the morning, my phone, and so I sat there in bed watching\n",
            "various cooking videos on Instagram and bouncing around between a bunch\n",
            "of different applications. But then it was time\n",
            "to get out of bed and cook breakfast, and so the thing that I focused then on, in addition to the omelette in the pan, was the iPad that was\n",
            "right next to the oven. And then it was time to do some work, and so I went to a different screen which was attached\n",
            "to another screen itself. All the while, this little devil on my wrist was tapping and beeping\n",
            "and blooping and distracting me as I was trying\n",
            "to get important stuff done. But there was one particular offender\n",
            "out of all of these different devices tha\n",
            "Summarized text\n",
            " Amanda Chu: \"From the moment I woke up to the end of the day, my life was a series of screens\" \"I started the day with the thing that woke me up first thing in the morning, my phone,\" she says . \"All the while, this little devil on my wrist was tapping and beeping and blooping and distracting me\"\n",
            "input text \n",
            "t I wasted more time on\n",
            "than anything else. That was this dastardly thing: my phone. I could spend hours\n",
            "on this thing every single day. And so I decided to essentially,\n",
            "for all intents and purposes, get rid of the thing for a month. As an experiment, I thought, \"I'm going to live on this thing\n",
            "for just 30 minutes every single day at a maximum.\" And so this is the amount\n",
            "of time I have for maps, this is the amount of time\n",
            "to call my mother, this is the amount of time I have for everything that I could\n",
            "possibly want to do, to listen to music, to listen to podcasts, and I observed what happened\n",
            "during this time. It took about a week to adjust downward into a new,\n",
            "lower level of stimulation, but once I did, I noticed that three\n",
            "curious things began to happen. First, my attention span grew. It was like I could focus on things, not effortlessly, but with much more ease than I could\n",
            "before this experiment started. In addition to this, though,\n",
            "as I was going about the world and especially whe\n",
            "Summarized text\n",
            " \"I wasted more time on my phone than anything else,\" says John Sutter . Sutter: \"I decided to essentially, for all intents and purposes, get rid of the thing for a month\" \"It took about a week to adjust downward into a new, progressivelylower level of stimulation,\" he says .\n",
            "input text \n",
            "n my mind\n",
            "wandered a bit, I had more ideas that my mind arrived at, and on top of this, I had more plans and thoughts\n",
            "about the future. Getting rid of one simple device\n",
            "led to these three effects. Why? Noticing this a few years back\n",
            "led me on this long journey to get to the bottom of what it takes\n",
            "to focus in a world of distraction. I pored over hundreds of research papers\n",
            "from front to back at my office. I don't know if you've ever watched\n",
            "one of those crime shows where somebody's solving a murder. And so they have this big Bristol board, and there's string attached to papers attached to memos\n",
            "attached to newspaper clippings - this is like what the state\n",
            "of my office was. I flew out to meet experts\n",
            "around the world who study focus; I conducted more experiments on myself until the point I had\n",
            "25,000 words of research notes about why this is the case. How does technology influence\n",
            "our attention and our ability to focus? I want to start with the attention spans that we have. This is how \n",
            "Summarized text\n",
            " Aims to get to the bottom of what it takes to focus in a world of distraction . Pored over hundreds of research papers from front to back at his office . Travelled out to meet experts around the world who study focus . Had 25,000 words of research notes about why this is the case .\n",
            "input text \n",
            "we pay attention\n",
            "to the world around us and how much control\n",
            "we have over our focus. The research around\n",
            "this particular area is fascinating. It turns out that when we do work\n",
            "in front of a computer, especially when our phone is nearby, we focus on one thing for just 40 seconds before we switch to doing something else, and when we have things like Slack open\n",
            "as we're doing some work, this lowers to 35 seconds. But the reason that this is the case\n",
            "is not what we might think, after looking at the research. We think the problem\n",
            "is that our brains are distracted. But after looking at the research, this is what I've come to know\n",
            "as a symptom for the deeper problem, which runs much more deeply -\n",
            "it's the root cause of this distraction. It's not that we're distracted;\n",
            "it's that our brains are overstimulated. It's that we crave distraction\n",
            "in the first place. Our brains love these tiny little nuggets of information and social media and email and these things that we do\n",
            "over the course of the d\n",
            "Summarized text\n",
            " We pay attention to the world around us and how much control we have over our focus. We think the problem is that our brains are distracted. But after looking at the research, this is what I've come to know is the root cause of this distraction. It's not that we're distracted; it's that we crave distraction. Our brains love these tiny little nuggets of information and social media .\n",
            "input text \n",
            "ay. There's even a mechanism in our mind\n",
            "called the \"novelty bias,\" by which our mind rewards us\n",
            "with a hit of dopamine, one of those wonderful pleasure chemicals, the same one we get when we eat and order\n",
            "a whole medium pizza from Domino's, you know, the same one\n",
            "that we get when we make love. We get that same stimulation\n",
            "when we check Facebook. We get this dopamine\n",
            "coursing through our mind. And so we not only crave distraction, but our mind rewards us for seeking out and finding\n",
            "distraction in the first place. So, this is the state of our minds today. We're at this hyperstimulated state where we bounce around between these bunch\n",
            "of different objects of attention that are very, very\n",
            "stimulating for our mind. And so I thought, \"Okay, if the phone\n",
            "had this impact on my attention span, what if I lowered how stimulated\n",
            "I was even more, still?\" And so, you know,\n",
            "this feeling that we experience when we go from being\n",
            "in a state of high stimulation into a state of low stimulation, it has a n\n",
            "Summarized text\n",
            " There's even a mechanism in our mind called the \"novelty bias,\" by which our mind rewards us with a hit of dopamine, one of those wonderful pleasure chemicals . So, this is the state of our minds today. We're at this hyperstimulated state where we bounce around between objects of attention that are very, very stimulating for our mind. And so, you know, this feeling that we experience when we go from being high stimulation into a state of low stimulation, it has a n\n",
            "input text \n",
            "ame. That name is called \"boredom,\" (Laughs) you know, this restlessness that we feel\n",
            "when we have this super busy week and then we're lying on the couch\n",
            "on a Sunday afternoon, thinking, \"Alright, well, what am I doing now?\" So, I put out a call to the readers\n",
            "of my website and I asked them, \"What is the most boring thing\n",
            "that you can think of doing? I'm going to make myself bored\n",
            "for an hour a day, for a month.\" And so I did some stuff that I still am\n",
            "upset about from my readers, to this day. Day one, I read the iTunes\n",
            "terms and conditions for one hour. (Laughter) It's actually shorter and more readable\n",
            "than you might think. Day four, I waited on hold with\n",
            "Air Canada's baggage claims department. It's very easy - This is the trick: if you want to make yourself bored, don't call the reservations department,\n",
            "call the baggage claim people because you're going to wait hours,\n",
            "if you ever get through at all. Day 19, I counted\n",
            "all the zeroes that I could in the first 10,000 digits of pi. Ugh.\n",
            "Summarized text\n",
            " \"Boredom\" is the restlessness that we feel when we have a busy week and then we're lying on the couch, thinking, \"Alright, well, what am I doing now?\" So, I put out a call to the readers of my website and I asked them, \"What is the most boring thing you can think of doing? I'm going to make myself bored,\" he says .\n",
            "input text \n",
            " Day 24, I watched a clock tick, tick for one hour. And 27 other activities this month. Jeez. I still think back. But curiously, I noticed the exact same effects\n",
            "as I did during the smartphone experiment. It took about a week\n",
            "for my mind to adjust downward into a newer, lower level of stimulation, and this maps, curiously,\n",
            "on top of research that shows that it takes\n",
            "our mind about eight days to fully calm down and rest, like when we're on vacation,\n",
            "as an example. Our vacations need to be longer\n",
            "than they are today. But I also noticed\n",
            "that my attention span expanded. I was able to focus\n",
            "even more effortlessly because I wasn't surrounded\n",
            "by fewer distractions, but my mind was so much less stimulated that it did not seek the distraction\n",
            "in the first place. But the fun part were these ideas\n",
            "and plans that struck me that didn't before, and the reason that this is the case is because my mind had a chance\n",
            "to wander more often. There's a great quote that I love\n",
            "that you might be familiar with \n",
            "Summarized text\n",
            " It took about a week for my mind to adjust downward into a newer, lower level of stimulation . Research shows that it takes about eight days to fully calm down and rest, like when we're on vacation . But I also noticed that my attention span expanded. I was able to focus more easily because I wasn't surrounded by fewer distractions .\n",
            "input text \n",
            "from J. R. R. Tolkien, where he says that\n",
            "\"not all those who wander are lost,\" and the exact same thing is true,\n",
            "it turns out, with regard to our focus, with regard to our attention. If you think back to when your best,\n",
            "most brilliant ideas strike you, you're rarely focused on something. Maybe this morning\n",
            "you were taking a shower, or maybe some morning in the past, and then your mind had a chance to connect\n",
            "several of the constellations of ideas that were swirling around in your mind to create an idea that would\n",
            "never have materialized otherwise if you were focused on something else, on your phone, for example. This is a mode, especially when we do this deliberately,\n",
            "when we deliberately let our mind wander; I call this mode \"scatter focus.\" And the research shows that it lets our mind come up with ideas,\n",
            "it lets our mind plan because of where our mind wanders to. This is fascinating. It turns out that when we just\n",
            "let our attention rest, it goes to three main places: We think about t\n",
            "Summarized text\n",
            " When your best, most brilliant ideas strike you, you're rarely focused on something . This is a mode, especially when we do this deliberately, when we deliberately let our mind wander, is called \"scatter focus\" Research shows that it lets our mind come up with ideas, and it also helps our mind plan because of where our mind wanders to .\n",
            "input text \n",
            "he past,\n",
            "we think about the present, and we think about the future. But we think about the past\n",
            "less than we might think, only about 12% of the time, and often we're recalling ideas\n",
            "in these thought-wandering episodes. But the present, which is a much more\n",
            "productive place to wander - we wander to think\n",
            "about the present 28% of the time. And this is, you know, something\n",
            "as simple as you're typing up an email and you can't find a way\n",
            "to phrase something because it's very delicate,\n",
            "maybe it's political, you go and walk to another room,\n",
            "to another room of the house, the office, and the solution hits you because your mind\n",
            "had a chance to approach it and prod at that problem\n",
            "from different directions. But here's the thing: our minds wander\n",
            "to think about the future more than the past\n",
            "and the present combined. Whenever our mind is wandering,\n",
            "we think about the future 48% of the time. This is why when we're taking a shower,\n",
            "we plan out our entire day, even though it hasn't started yet. This i\n",
            "Summarized text\n",
            " We think about the past less than we might think, only about 12% of the time . But the present is a much more productive place to wander - we wander to think about present 28% of time . Whenever our mind is wandering, we think about future more than the past and the present combined .\n",
            "input text \n",
            "s called\n",
            "our mind's prospective bias, and it occurs when our mind wanders. If you're good with math, or maths, I should say - not in Canada anymore - these numbers don't add up to 100. It's because the rest of the time,\n",
            "our mind is dull, it's blank, or it doesn't have an idea inside of it\n",
            "that is rooted in time. But whatever it is for you\n",
            "that lets your mind wander, something that's simple, something that doesn't\n",
            "consume your full attention. Mine happens to be something that is not necessarily stereotypic\n",
            "of my age and gender demographic, but I love to knit. Knitting is one of my favorite hobbies; I knit in planes, I knit on trains,\n",
            "I knit in hotel rooms. I was knitting in the hotel room\n",
            "before this event today because it helps calm you down,\n",
            "it helps settle your nerves. And I come up with so many ideas\n",
            "when I knit, I have a notepad next to me. But whatever it is for you - it might be taking that extra long shower,\n",
            "it might be taking a bath, upgrading your shower to a bath so you can s\n",
            "Summarized text\n",
            " It's because the rest of the time, our mind is dull, it's blank, or it doesn't have an idea inside of it that is rooted in time . But whatever it is for you - it might be taking that extra long shower, or taking a bath . It might be something simple, something that doesn't consume your full attention .\n",
            "input text \n",
            "oak not just with your body\n",
            "but with your ideas as well. It could be simple; if you're at work walking\n",
            "from one room to another in the office - very simple change - but if you don't use your phone\n",
            "during that walk, your mind will go to the meeting\n",
            "that you're about to attend, it'll go to the call\n",
            "that you were just on, it'll wander to the ideas\n",
            "that are circulating, and it'll make you\n",
            "more creative in this way. It could be something\n",
            "as simple as waiting in line and just, I don't know, waiting in line. It could be getting a massage. You know, whatever it is\n",
            "that lets your mind - I love this picture so much - (Laughter) whatever you love doing. Here's a pro tip: Ask your masseuse to let you\n",
            "have a notepad in the session because ideas always come to you\n",
            "and you're always incubating things, so capture them so you can act upon them later. But I think, after doing\n",
            "this deep dive into the research, we need to make two fundamental shifts with regard to how we think\n",
            "about our attention. We thin\n",
            "Summarized text\n",
            " We thin oak not just with your body but with your ideas as well as your ideas . Ask your masseuse to let you know you have a notepad in the session because ideas always come to you. You're always incubating things, so capture them so you can act upon them later. It could be something as simple as waiting in line .\n",
            "input text \n",
            "k that we need to fit more in - you know, there's all this talk\n",
            "about \"hustling.\" I'm an anti-hustler. I'm one of the laziest people\n",
            "you'll ever meet, and I think that's what gives me\n",
            "so many ideas to talk and write about. We don't need to fit more in. We're doing enough; we're doing too much. We're doing so much\n",
            "that our mind never wanders anymore. It's sad. This is when our best ideas\n",
            "and plans come to us. We need more space. If you look at what allows traffic\n",
            "to move down a highway, what allows it to move forward\n",
            "isn't how fast cars are moving, as you might expect, it's how much space\n",
            "exists between the cars that allows traffic to move forward. Our work and our life are the same way. The second shift: we like to think of distraction\n",
            "as the enemy of focus. It is not. It is a symptom of why\n",
            "we find it difficult to focus, which is the fact\n",
            "that our mind is overstimulated. I have a challenge for you. It's a two-week challenge, but it's a challenge to make your mind\n",
            "a bit less stimulated\n",
            "Summarized text\n",
            " We don't need to fit more in. We're doing enough; we're doing too much. This is when our best ideas and plans come to us. We need more space. We like to think of distraction as the enemy of focus. It is a symptom of why we find it difficult to focus, which is the fact that our mind is overstimulated. It's a two-week challenge to make your mind a bit less stimulated.\n",
            "input text \n",
            " and simply notice: what happens to your attention? How many ideas do you get? How does your focus change? How many plans do you make? So, for two weeks,\n",
            "make your mind less stimulated. There are so many great features\n",
            "on phones, on devices that'll let us eliminate a lot of the time\n",
            "we waste on our devices. Use those features, not only to become aware\n",
            "of how you spend your time but how you can spend less\n",
            "so you have more ideas. Have a disconnection ritual every evening. One of my favorite daily rituals: I disconnect from the Internet completely from 8pm to 8am. My fiancée and I, we have\n",
            "a weekly disconnection ritual, a technology Sabbath every Sunday, so we can disconnect\n",
            "from the digital world and reconnect with the physical world,\n",
            "the real, actual world. Rediscover boredom -\n",
            "you don't have to do it for an hour. Please don't call Air Canada.\n",
            "It's just a world of hell. But rediscover boredom,\n",
            "just for a few minutes. Lay on the couch,\n",
            "and where does your mind go? And scatter your attent\n",
            "Summarized text\n",
            " There are so many great features on phones, on devices that'll let us eliminate a lot of time we waste on our devices . Rediscover boredom - you don't have to do it for an hour . Have a disconnection ritual every evening every evening. Use those features to become aware of how you spend your time and how you can spend less .\n",
            "input text \n",
            "ion. You'll find some\n",
            "remarkably fruitful things in that attentional zone. If there's one thing\n",
            "that I have found to be true after doing this deep dive\n",
            "into this world on how we focus, it's that the state of our attention\n",
            "is what determines the state of our lives. If we're distracted in each moment, those moments of distraction\n",
            "and overstimulation build up and accumulate to create a life that feels\n",
            "more distracted and overwhelming, like we don't have a clear direction. But when we become less stimulated,\n",
            "when we make our mind more calm, we get the benefits of added productivity\n",
            "and focus and ideas and creativity, but we also live\n",
            "a better life because of it. Thank you so much. (Applause)\n",
            "Summarized text\n",
            " If we're distracted in each moment, those moments of distraction and overstimulation build up and accumulate to create a life that feels more distracted and overwhelming . But when we become less stimulated, we get the benefits of added productivity and ideas and creativity, but also live a better life because of it .\n"
          ]
        }
      ]
    },
    {
      "cell_type": "code",
      "source": [
        "summary = \" \".join(summarized_text)"
      ],
      "metadata": {
        "id": "13V36J8gmPJj"
      },
      "execution_count": null,
      "outputs": []
    },
    {
      "cell_type": "code",
      "source": [
        "summary"
      ],
      "metadata": {
        "id": "bWNHgPZEmPOX",
        "colab": {
          "base_uri": "https://localhost:8080/",
          "height": 620
        },
        "outputId": "d9f5d473-d6b6-4071-f797-1986cdd6db4a"
      },
      "execution_count": null,
      "outputs": [
        {
          "output_type": "execute_result",
          "data": {
            "text/plain": [
              "' Amanda Chu: \"From the moment I woke up to the end of the day, my life was a series of screens\" \"I started the day with the thing that woke me up first thing in the morning, my phone,\" she says . \"All the while, this little devil on my wrist was tapping and beeping and blooping and distracting me\"  \"I wasted more time on my phone than anything else,\" says John Sutter . Sutter: \"I decided to essentially, for all intents and purposes, get rid of the thing for a month\" \"It took about a week to adjust downward into a new, progressivelylower level of stimulation,\" he says .  Aims to get to the bottom of what it takes to focus in a world of distraction . Pored over hundreds of research papers from front to back at his office . Travelled out to meet experts around the world who study focus . Had 25,000 words of research notes about why this is the case .  We pay attention to the world around us and how much control we have over our focus. We think the problem is that our brains are distracted. But after looking at the research, this is what I\\'ve come to know is the root cause of this distraction. It\\'s not that we\\'re distracted; it\\'s that we crave distraction. Our brains love these tiny little nuggets of information and social media .  There\\'s even a mechanism in our mind called the \"novelty bias,\" by which our mind rewards us with a hit of dopamine, one of those wonderful pleasure chemicals . So, this is the state of our minds today. We\\'re at this hyperstimulated state where we bounce around between objects of attention that are very, very stimulating for our mind. And so, you know, this feeling that we experience when we go from being high stimulation into a state of low stimulation, it has a n  \"Boredom\" is the restlessness that we feel when we have a busy week and then we\\'re lying on the couch, thinking, \"Alright, well, what am I doing now?\" So, I put out a call to the readers of my website and I asked them, \"What is the most boring thing you can think of doing? I\\'m going to make myself bored,\" he says .  It took about a week for my mind to adjust downward into a newer, lower level of stimulation . Research shows that it takes about eight days to fully calm down and rest, like when we\\'re on vacation . But I also noticed that my attention span expanded. I was able to focus more easily because I wasn\\'t surrounded by fewer distractions .  When your best, most brilliant ideas strike you, you\\'re rarely focused on something . This is a mode, especially when we do this deliberately, when we deliberately let our mind wander, is called \"scatter focus\" Research shows that it lets our mind come up with ideas, and it also helps our mind plan because of where our mind wanders to .  We think about the past less than we might think, only about 12% of the time . But the present is a much more productive place to wander - we wander to think about present 28% of time . Whenever our mind is wandering, we think about future more than the past and the present combined .  It\\'s because the rest of the time, our mind is dull, it\\'s blank, or it doesn\\'t have an idea inside of it that is rooted in time . But whatever it is for you - it might be taking that extra long shower, or taking a bath . It might be something simple, something that doesn\\'t consume your full attention .  We thin oak not just with your body but with your ideas as well as your ideas . Ask your masseuse to let you know you have a notepad in the session because ideas always come to you. You\\'re always incubating things, so capture them so you can act upon them later. It could be something as simple as waiting in line .  We don\\'t need to fit more in. We\\'re doing enough; we\\'re doing too much. This is when our best ideas and plans come to us. We need more space. We like to think of distraction as the enemy of focus. It is a symptom of why we find it difficult to focus, which is the fact that our mind is overstimulated. It\\'s a two-week challenge to make your mind a bit less stimulated.  There are so many great features on phones, on devices that\\'ll let us eliminate a lot of time we waste on our devices . Rediscover boredom - you don\\'t have to do it for an hour . Have a disconnection ritual every evening every evening. Use those features to become aware of how you spend your time and how you can spend less .  If we\\'re distracted in each moment, those moments of distraction and overstimulation build up and accumulate to create a life that feels more distracted and overwhelming . But when we become less stimulated, we get the benefits of added productivity and ideas and creativity, but also live a better life because of it .'"
            ],
            "application/vnd.google.colaboratory.intrinsic+json": {
              "type": "string"
            }
          },
          "metadata": {},
          "execution_count": 20
        }
      ]
    },
    {
      "cell_type": "code",
      "source": [
        "with open(\"summary_file.txt\", \"w\") as file:\n",
        "    file.write(summary)\n"
      ],
      "metadata": {
        "id": "7_-TwWjBmPWw"
      },
      "execution_count": null,
      "outputs": []
    },
    {
      "cell_type": "code",
      "source": [
        "print(\"Total characters in the summarized text:\", len(summary))"
      ],
      "metadata": {
        "colab": {
          "base_uri": "https://localhost:8080/"
        },
        "id": "HsGYCWlyEDIZ",
        "outputId": "2dbf2369-5af0-4dcf-c243-6b71cbb28346"
      },
      "execution_count": null,
      "outputs": [
        {
          "output_type": "stream",
          "name": "stdout",
          "text": [
            "Total characters in the summarized text: 4640\n"
          ]
        }
      ]
    },
    {
      "cell_type": "code",
      "source": [
        "transcript_statistics = {\n",
        "    \"Transcript Characters\": len(result),\n",
        "    \"Summary Characters\": len(summary),\n",
        "    \"Original Transcript Sentences\": len(transcript),\n",
        "    \"Summarized Sentences\": len(summarized_text)\n",
        "}"
      ],
      "metadata": {
        "id": "5DNVBBw5mPcr"
      },
      "execution_count": null,
      "outputs": []
    },
    {
      "cell_type": "code",
      "source": [
        "print(\"Transcript and Summary Statistics:\")\n",
        "for key, value in transcript_statistics.items():\n",
        "    print(f\"{key}: {value}\")"
      ],
      "metadata": {
        "id": "5upYj9zFmPjH",
        "colab": {
          "base_uri": "https://localhost:8080/"
        },
        "outputId": "9f2a9a73-1a81-41f1-84f8-dcb46ad0f42d"
      },
      "execution_count": null,
      "outputs": [
        {
          "output_type": "stream",
          "name": "stdout",
          "text": [
            "Transcript and Summary Statistics:\n",
            "Transcript Characters: 13696\n",
            "Summary Characters: 4640\n",
            "Original Transcript Sentences: 306\n",
            "Summarized Sentences: 14\n"
          ]
        }
      ]
    },
    {
      "cell_type": "code",
      "source": [
        "!pip install nltk"
      ],
      "metadata": {
        "id": "bcWYL8tTmPnE",
        "colab": {
          "base_uri": "https://localhost:8080/"
        },
        "outputId": "01a35630-bb0e-474e-b2be-ea5a3e2861f9"
      },
      "execution_count": null,
      "outputs": [
        {
          "output_type": "stream",
          "name": "stdout",
          "text": [
            "Requirement already satisfied: nltk in /usr/local/lib/python3.10/dist-packages (3.8.1)\n",
            "Requirement already satisfied: click in /usr/local/lib/python3.10/dist-packages (from nltk) (8.1.7)\n",
            "Requirement already satisfied: joblib in /usr/local/lib/python3.10/dist-packages (from nltk) (1.3.2)\n",
            "Requirement already satisfied: regex>=2021.8.3 in /usr/local/lib/python3.10/dist-packages (from nltk) (2023.6.3)\n",
            "Requirement already satisfied: tqdm in /usr/local/lib/python3.10/dist-packages (from nltk) (4.66.1)\n"
          ]
        }
      ]
    },
    {
      "cell_type": "code",
      "source": [
        "from nltk.translate.bleu_score import corpus_bleu\n",
        "from nltk.translate.bleu_score import sentence_bleu\n",
        "from nltk.translate.bleu_score import SmoothingFunction"
      ],
      "metadata": {
        "id": "2-2OnwvlmPqt"
      },
      "execution_count": null,
      "outputs": []
    },
    {
      "cell_type": "code",
      "source": [
        "pip install rouge"
      ],
      "metadata": {
        "colab": {
          "base_uri": "https://localhost:8080/"
        },
        "id": "WbYTvzOfG8aA",
        "outputId": "b31841b7-be70-455a-801b-88f3c3c0722a"
      },
      "execution_count": null,
      "outputs": [
        {
          "output_type": "stream",
          "name": "stdout",
          "text": [
            "Collecting rouge\n",
            "  Downloading rouge-1.0.1-py3-none-any.whl (13 kB)\n",
            "Requirement already satisfied: six in /usr/local/lib/python3.10/dist-packages (from rouge) (1.16.0)\n",
            "Installing collected packages: rouge\n",
            "Successfully installed rouge-1.0.1\n"
          ]
        }
      ]
    },
    {
      "cell_type": "code",
      "source": [
        "from rouge import Rouge"
      ],
      "metadata": {
        "id": "V5uu9RRjG8gG"
      },
      "execution_count": null,
      "outputs": []
    },
    {
      "cell_type": "code",
      "source": [
        "print(len(result))"
      ],
      "metadata": {
        "colab": {
          "base_uri": "https://localhost:8080/"
        },
        "id": "jr3HJ3ZhE-ao",
        "outputId": "d0e26dc1-6f05-4a18-fb32-dafd857943bb"
      },
      "execution_count": null,
      "outputs": [
        {
          "output_type": "stream",
          "name": "stdout",
          "text": [
            "13696\n"
          ]
        }
      ]
    },
    {
      "cell_type": "code",
      "source": [
        "reference = result"
      ],
      "metadata": {
        "id": "3-l8VrwPGgQS"
      },
      "execution_count": null,
      "outputs": []
    },
    {
      "cell_type": "code",
      "source": [
        "generated_summary = summary"
      ],
      "metadata": {
        "id": "X4j1YyPcGgWI"
      },
      "execution_count": null,
      "outputs": []
    },
    {
      "cell_type": "code",
      "source": [
        "rouge = Rouge()\n",
        "scores = rouge.get_scores(generated_summary, reference_summary)"
      ],
      "metadata": {
        "id": "K_XhFoZwE-hH"
      },
      "execution_count": null,
      "outputs": []
    },
    {
      "cell_type": "code",
      "source": [
        "print(\"ROUGE Scores:\", scores)"
      ],
      "metadata": {
        "colab": {
          "base_uri": "https://localhost:8080/"
        },
        "id": "mrRrepxAE-pK",
        "outputId": "3b7e258a-873d-47d6-d433-efbc78c16bb0"
      },
      "execution_count": null,
      "outputs": [
        {
          "output_type": "stream",
          "name": "stdout",
          "text": [
            "ROUGE Scores: [{'rouge-1': {'r': 0.4392059553349876, 'p': 0.910025706940874, 'f': 0.5924686148557063}, 'rouge-2': {'r': 0.31831537708129287, 'p': 0.8441558441558441, 'f': 0.4623044056959202}, 'rouge-l': {'r': 0.43672456575682383, 'p': 0.9048843187660668, 'f': 0.5891213345209784}}]\n"
          ]
        }
      ]
    },
    {
      "cell_type": "code",
      "source": [
        "##########################################################################################################################################################################"
      ],
      "metadata": {
        "id": "IhjfNoBBfLLe"
      },
      "execution_count": null,
      "outputs": []
    },
    {
      "cell_type": "code",
      "source": [
        "with open(\"summary_file.txt\", \"r\") as file:\n",
        "    file_content = file.read()"
      ],
      "metadata": {
        "id": "xSHPQuq2IXrf"
      },
      "execution_count": null,
      "outputs": []
    },
    {
      "cell_type": "code",
      "source": [
        "file_content"
      ],
      "metadata": {
        "colab": {
          "base_uri": "https://localhost:8080/",
          "height": 620
        },
        "id": "SbTe-KAuIXyy",
        "outputId": "d5e8eda0-99e1-4ff6-d9ee-50632ce40dc2"
      },
      "execution_count": null,
      "outputs": [
        {
          "output_type": "execute_result",
          "data": {
            "text/plain": [
              "' Amanda Chu: \"From the moment I woke up to the end of the day, my life was a series of screens\" \"I started the day with the thing that woke me up first thing in the morning, my phone,\" she says . \"All the while, this little devil on my wrist was tapping and beeping and blooping and distracting me\"  \"I wasted more time on my phone than anything else,\" says John Sutter . Sutter: \"I decided to essentially, for all intents and purposes, get rid of the thing for a month\" \"It took about a week to adjust downward into a new, progressivelylower level of stimulation,\" he says .  Aims to get to the bottom of what it takes to focus in a world of distraction . Pored over hundreds of research papers from front to back at his office . Travelled out to meet experts around the world who study focus . Had 25,000 words of research notes about why this is the case .  We pay attention to the world around us and how much control we have over our focus. We think the problem is that our brains are distracted. But after looking at the research, this is what I\\'ve come to know is the root cause of this distraction. It\\'s not that we\\'re distracted; it\\'s that we crave distraction. Our brains love these tiny little nuggets of information and social media .  There\\'s even a mechanism in our mind called the \"novelty bias,\" by which our mind rewards us with a hit of dopamine, one of those wonderful pleasure chemicals . So, this is the state of our minds today. We\\'re at this hyperstimulated state where we bounce around between objects of attention that are very, very stimulating for our mind. And so, you know, this feeling that we experience when we go from being high stimulation into a state of low stimulation, it has a n  \"Boredom\" is the restlessness that we feel when we have a busy week and then we\\'re lying on the couch, thinking, \"Alright, well, what am I doing now?\" So, I put out a call to the readers of my website and I asked them, \"What is the most boring thing you can think of doing? I\\'m going to make myself bored,\" he says .  It took about a week for my mind to adjust downward into a newer, lower level of stimulation . Research shows that it takes about eight days to fully calm down and rest, like when we\\'re on vacation . But I also noticed that my attention span expanded. I was able to focus more easily because I wasn\\'t surrounded by fewer distractions .  When your best, most brilliant ideas strike you, you\\'re rarely focused on something . This is a mode, especially when we do this deliberately, when we deliberately let our mind wander, is called \"scatter focus\" Research shows that it lets our mind come up with ideas, and it also helps our mind plan because of where our mind wanders to .  We think about the past less than we might think, only about 12% of the time . But the present is a much more productive place to wander - we wander to think about present 28% of time . Whenever our mind is wandering, we think about future more than the past and the present combined .  It\\'s because the rest of the time, our mind is dull, it\\'s blank, or it doesn\\'t have an idea inside of it that is rooted in time . But whatever it is for you - it might be taking that extra long shower, or taking a bath . It might be something simple, something that doesn\\'t consume your full attention .  We thin oak not just with your body but with your ideas as well as your ideas . Ask your masseuse to let you know you have a notepad in the session because ideas always come to you. You\\'re always incubating things, so capture them so you can act upon them later. It could be something as simple as waiting in line .  We don\\'t need to fit more in. We\\'re doing enough; we\\'re doing too much. This is when our best ideas and plans come to us. We need more space. We like to think of distraction as the enemy of focus. It is a symptom of why we find it difficult to focus, which is the fact that our mind is overstimulated. It\\'s a two-week challenge to make your mind a bit less stimulated.  There are so many great features on phones, on devices that\\'ll let us eliminate a lot of time we waste on our devices . Rediscover boredom - you don\\'t have to do it for an hour . Have a disconnection ritual every evening every evening. Use those features to become aware of how you spend your time and how you can spend less .  If we\\'re distracted in each moment, those moments of distraction and overstimulation build up and accumulate to create a life that feels more distracted and overwhelming . But when we become less stimulated, we get the benefits of added productivity and ideas and creativity, but also live a better life because of it .'"
            ],
            "application/vnd.google.colaboratory.intrinsic+json": {
              "type": "string"
            }
          },
          "metadata": {},
          "execution_count": 42
        }
      ]
    }
  ]
}